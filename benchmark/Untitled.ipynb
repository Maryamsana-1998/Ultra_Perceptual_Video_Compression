{
 "cells": [
  {
   "cell_type": "markdown",
   "id": "f29bd70f-fefa-485e-936f-ab477630ecc6",
   "metadata": {},
   "source": [
    "# Benchmarking Code and Plots"
   ]
  },
  {
   "cell_type": "code",
   "execution_count": 1,
   "id": "7eae4a96-06d0-4bcd-8cd6-59b585c5b26d",
   "metadata": {},
   "outputs": [
    {
     "name": "stderr",
     "output_type": "stream",
     "text": [
      "/data/maryam.sana/anaconda3/envs/unicontrol/lib/python3.8/site-packages/torchvision/io/image.py:13: UserWarning: Failed to load image Python extension: libtorch_cuda_cu.so: cannot open shared object file: No such file or directory\n",
      "  warn(f\"Failed to load image Python extension: {e}\")\n",
      "/home/maryam.sana/.local/lib/python3.8/site-packages/tqdm/auto.py:21: TqdmWarning: IProgress not found. Please update jupyter and ipywidgets. See https://ipywidgets.readthedocs.io/en/stable/user_install.html\n",
      "  from .autonotebook import tqdm as notebook_tqdm\n"
     ]
    },
    {
     "name": "stdout",
     "output_type": "stream",
     "text": [
      "Setting up [LPIPS] perceptual loss: trunk [alex], v[0.1], spatial [off]\n",
      "Loading model from: /data/maryam.sana/anaconda3/envs/unicontrol/lib/python3.8/site-packages/lpips/weights/v0.1/alex.pth\n"
     ]
    },
    {
     "name": "stderr",
     "output_type": "stream",
     "text": [
      "/data/maryam.sana/anaconda3/envs/unicontrol/lib/python3.8/site-packages/lpips/lpips.py:107: FutureWarning: You are using `torch.load` with `weights_only=False` (the current default value), which uses the default pickle module implicitly. It is possible to construct malicious pickle data which will execute arbitrary code during unpickling (See https://github.com/pytorch/pytorch/blob/main/SECURITY.md#untrusted-models for more details). In a future release, the default value for `weights_only` will be flipped to `True`. This limits the functions that could be executed during unpickling. Arbitrary objects will no longer be allowed to be loaded via this mode unless they are explicitly allowlisted by the user via `torch.serialization.add_safe_globals`. We recommend you start setting `weights_only=True` for any use case where you don't have full control of the loaded file. Please open an issue on GitHub for any issues related to this experimental feature.\n",
      "  self.load_state_dict(torch.load(model_path, map_location='cpu'), strict=False)\n",
      "/data/maryam.sana/anaconda3/envs/unicontrol/lib/python3.8/site-packages/torchmetrics/utilities/prints.py:36: UserWarning: Metric `FrechetInceptionDistance` will save all extracted features in buffer. For large datasets this may lead to large memory footprint.\n",
      "  warnings.warn(*args, **kwargs)\n"
     ]
    },
    {
     "name": "stdout",
     "output_type": "stream",
     "text": [
      "Setting up [LPIPS] perceptual loss: trunk [alex], v[0.1], spatial [off]\n",
      "Loading model from: /data/maryam.sana/anaconda3/envs/unicontrol/lib/python3.8/site-packages/lpips/weights/v0.1/alex.pth\n"
     ]
    },
    {
     "name": "stderr",
     "output_type": "stream",
     "text": [
      "/data/maryam.sana/anaconda3/envs/unicontrol/lib/python3.8/site-packages/lpips/lpips.py:107: FutureWarning: You are using `torch.load` with `weights_only=False` (the current default value), which uses the default pickle module implicitly. It is possible to construct malicious pickle data which will execute arbitrary code during unpickling (See https://github.com/pytorch/pytorch/blob/main/SECURITY.md#untrusted-models for more details). In a future release, the default value for `weights_only` will be flipped to `True`. This limits the functions that could be executed during unpickling. Arbitrary objects will no longer be allowed to be loaded via this mode unless they are explicitly allowlisted by the user via `torch.serialization.add_safe_globals`. We recommend you start setting `weights_only=True` for any use case where you don't have full control of the loaded file. Please open an issue on GitHub for any issues related to this experimental feature.\n",
      "  self.load_state_dict(torch.load(model_path, map_location='cpu'), strict=False)\n"
     ]
    }
   ],
   "source": [
    "import os\n",
    "import importlib\n",
    "from PIL import Image\n",
    "from tqdm import tqdm\n",
    "import test_utils\n",
    " # replace with actual import if needed\n",
    "importlib.reload(test_utils)\n",
    "from test_utils import calculate_metrics_batch "
   ]
  },
  {
   "cell_type": "code",
   "execution_count": 3,
   "id": "5971fc30-d476-41a3-8eaa-53d4bcd6aa7c",
   "metadata": {},
   "outputs": [
    {
     "name": "stderr",
     "output_type": "stream",
     "text": [
      "Videos:   0%|                                                 | 0/7 [00:00<?, ?it/s]\n",
      "Beauty CRFs:   0%|                                            | 0/3 [00:00<?, ?it/s]\u001b[A\n",
      "Beauty CRFs:  33%|████████████                        | 1/3 [00:20<00:41, 20.68s/it]\u001b[A\n",
      "Beauty CRFs:  67%|████████████████████████            | 2/3 [00:34<00:16, 16.77s/it]\u001b[A\n",
      "Beauty CRFs: 100%|████████████████████████████████████| 3/3 [00:48<00:00, 15.52s/it]\u001b[A\n",
      "Videos:  14%|█████▊                                   | 1/7 [00:48<04:53, 48.90s/it]\u001b[A\n",
      "Bosphorus CRFs:   0%|                                         | 0/3 [00:00<?, ?it/s]\u001b[A\n",
      "Bosphorus CRFs:  33%|███████████                      | 1/3 [00:21<00:42, 21.07s/it]\u001b[A\n",
      "Bosphorus CRFs:  67%|██████████████████████           | 2/3 [00:35<00:16, 16.96s/it]\u001b[A\n",
      "Bosphorus CRFs: 100%|█████████████████████████████████| 3/3 [00:51<00:00, 16.49s/it]\u001b[A\n",
      "Videos:  29%|███████████▋                             | 2/7 [01:40<04:11, 50.30s/it]\u001b[A\n",
      "HoneyBee CRFs:   0%|                                          | 0/3 [00:00<?, ?it/s]\u001b[A\n",
      "HoneyBee CRFs:  33%|███████████▎                      | 1/3 [00:22<00:44, 22.18s/it]\u001b[A\n",
      "HoneyBee CRFs:  67%|██████████████████████▋           | 2/3 [00:39<00:19, 19.10s/it]\u001b[A\n",
      "HoneyBee CRFs: 100%|██████████████████████████████████| 3/3 [00:55<00:00, 17.90s/it]\u001b[A\n",
      "Videos:  43%|█████████████████▌                       | 3/7 [02:35<03:31, 52.79s/it]\u001b[A\n",
      "Jockey CRFs:   0%|                                            | 0/3 [00:00<?, ?it/s]\u001b[A\n",
      "Jockey CRFs:  33%|████████████                        | 1/3 [00:20<00:41, 20.55s/it]\u001b[A\n",
      "Jockey CRFs:  67%|████████████████████████            | 2/3 [00:37<00:18, 18.37s/it]\u001b[A\n",
      "Jockey CRFs: 100%|████████████████████████████████████| 3/3 [00:53<00:00, 17.34s/it]\u001b[A\n",
      "Videos:  57%|███████████████████████▍                 | 4/7 [03:29<02:39, 53.12s/it]\u001b[A\n",
      "ReadySteadyGo CRFs:   0%|                                     | 0/3 [00:00<?, ?it/s]\u001b[A\n",
      "ReadySteadyGo CRFs:  33%|█████████▋                   | 1/3 [00:20<00:41, 20.96s/it]\u001b[A\n",
      "ReadySteadyGo CRFs:  67%|███████████████████▎         | 2/3 [00:36<00:17, 17.59s/it]\u001b[A\n",
      "ReadySteadyGo CRFs: 100%|█████████████████████████████| 3/3 [00:51<00:00, 16.56s/it]\u001b[A\n",
      "Videos:  71%|█████████████████████████████▎           | 5/7 [04:21<01:45, 52.60s/it]\u001b[A\n",
      "ShakeNDry CRFs:   0%|                                         | 0/3 [00:00<?, ?it/s]\u001b[A\n",
      "ShakeNDry CRFs:  33%|███████████                      | 1/3 [00:22<00:45, 22.51s/it]\u001b[A\n",
      "ShakeNDry CRFs:  67%|██████████████████████           | 2/3 [00:40<00:19, 19.64s/it]\u001b[A\n",
      "ShakeNDry CRFs: 100%|█████████████████████████████████| 3/3 [00:57<00:00, 18.47s/it]\u001b[A\n",
      "Videos:  86%|███████████████████████████████████▏     | 6/7 [05:18<00:54, 54.23s/it]\u001b[A\n",
      "YachtRide CRFs:   0%|                                         | 0/3 [00:00<?, ?it/s]\u001b[A\n",
      "YachtRide CRFs:  33%|███████████                      | 1/3 [00:20<00:40, 20.03s/it]\u001b[A\n",
      "YachtRide CRFs:  67%|██████████████████████           | 2/3 [00:35<00:17, 17.55s/it]\u001b[A\n",
      "YachtRide CRFs: 100%|█████████████████████████████████| 3/3 [00:53<00:00, 17.65s/it]\u001b[A\n",
      "Videos: 100%|█████████████████████████████████████████| 7/7 [06:12<00:00, 53.20s/it]\u001b[A"
     ]
    },
    {
     "name": "stdout",
     "output_type": "stream",
     "text": [
      "\n",
      "✅ Metrics saved to metrics_results_h265.txt\n"
     ]
    },
    {
     "name": "stderr",
     "output_type": "stream",
     "text": [
      "\n"
     ]
    }
   ],
   "source": [
    "# === Paths ===\n",
    "base_pred_dir = \"./test_codec\"\n",
    "base_orig_dir = \"../data/UVG_test_data\"\n",
    "output_file = \"metrics_results_h265.txt\"\n",
    "\n",
    "# Open output file and write header\n",
    "with open(output_file, \"w\") as fout:\n",
    "    fout.write(\"Video,CRF,PSNR,MS-SSIM,LPIPS,FID,FVD\\n\")\n",
    "\n",
    "    # Loop over videos with progress bar\n",
    "    for video in tqdm(sorted(os.listdir(base_pred_dir)), desc=\"Videos\"):\n",
    "        h264_dir = os.path.join(base_pred_dir, video, \"h265\")\n",
    "        orig_img_dir = os.path.join(base_orig_dir, video, \"1080p\")\n",
    "\n",
    "        if not os.path.isdir(h264_dir) or not os.path.isdir(orig_img_dir):\n",
    "            continue\n",
    "\n",
    "        # Sort and load original frames once per video\n",
    "        orig_files = sorted([f for f in os.listdir(orig_img_dir) if f.endswith(\".png\")])\n",
    "        orig_frames = [Image.open(os.path.join(orig_img_dir, f)) for f in orig_files]\n",
    "\n",
    "        # Loop over each CRF folder with inner progress bar\n",
    "        for crf_folder in tqdm(sorted(os.listdir(h264_dir)), desc=f\"{video} CRFs\", leave=False):\n",
    "            crf_path = os.path.join(h264_dir, crf_folder)\n",
    "            if not os.path.isdir(crf_path):\n",
    "                continue\n",
    "\n",
    "            # Sort and load predicted frames\n",
    "            pred_files = sorted([f for f in os.listdir(crf_path) if f.endswith(\".png\")])\n",
    "            pred_frames = [Image.open(os.path.join(crf_path, f)) for f in pred_files]\n",
    "\n",
    "            # Match frame counts\n",
    "            min_len = min(len(orig_frames), len(pred_frames))\n",
    "            metrics = calculate_metrics_batch(orig_frames[:min_len], pred_frames[:min_len])\n",
    "\n",
    "            # Write metrics to file\n",
    "            fout.write(\n",
    "                f\"{video},{crf_folder},\"\n",
    "                f\"{metrics['PSNR']:.4f},{metrics['MS-SSIM']:.4f},\"\n",
    "                f\"{metrics['LPIPS']:.4f},{metrics['FID']:.4f},{metrics['FVD']:.4f}\\n\"\n",
    "            )\n",
    "            fout.flush()\n",
    "\n",
    "print(f\"\\n✅ Metrics saved to {output_file}\")\n"
   ]
  },
  {
   "cell_type": "code",
   "execution_count": null,
   "id": "3bc03b0f-3173-41ac-a406-80c7cf1a4a06",
   "metadata": {},
   "outputs": [],
   "source": []
  }
 ],
 "metadata": {
  "kernelspec": {
   "display_name": "Python 3 (ipykernel)",
   "language": "python",
   "name": "python3"
  },
  "language_info": {
   "codemirror_mode": {
    "name": "ipython",
    "version": 3
   },
   "file_extension": ".py",
   "mimetype": "text/x-python",
   "name": "python",
   "nbconvert_exporter": "python",
   "pygments_lexer": "ipython3",
   "version": "3.8.5"
  }
 },
 "nbformat": 4,
 "nbformat_minor": 5
}
