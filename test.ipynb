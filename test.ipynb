{
 "cells": [
  {
   "cell_type": "code",
   "execution_count": 1,
   "id": "aa86f8b3-b3dd-45b8-9192-3bf4e9c48d81",
   "metadata": {},
   "outputs": [],
   "source": [
    "import matplotlib.pyplot as plt\n",
    "import pandas as pd\n",
    "from plot_utils import *\n",
    "\n",
    "h264_grouped = pd.read_csv('benchmark/metrics/h264_gop8_benchmarking.csv')\n",
    "h265_grouped = pd.read_csv('benchmark/metrics/h265_gop8_benchmarking.csv')\n",
    "uni_control = pd.read_csv('benchmark/metrics/Unicontrol_UVG_1080.csv')\n",
    "uni_control_grouped = uni_control.groupby(\"gop\").mean(numeric_only=True).reset_index()"
   ]
  },
  {
   "cell_type": "code",
   "execution_count": 4,
   "id": "6c80eadb-3641-44b6-be50-d645f83a9614",
   "metadata": {},
   "outputs": [
    {
     "name": "stdout",
     "output_type": "stream",
     "text": [
      "✅ Saved: benchmark/plots/all_metrics_vs_bpp.png\n"
     ]
    }
   ],
   "source": [
    "metrics_to_plot = [\"LPIPS\", \"MS-SSIM\", \"FID\", \"FVD\"]\n",
    "plot_all_metrics_vs_bpp(h264_grouped, h265_grouped, uni_control_grouped, metrics_to_plot)"
   ]
  },
  {
   "cell_type": "code",
   "execution_count": 2,
   "id": "1fc9a8b6-de4e-4a10-82f8-b76edd3cdc68",
   "metadata": {},
   "outputs": [
    {
     "name": "stdout",
     "output_type": "stream",
     "text": [
      "✅ Saved multi-metric plot: benchmark/grid_comparison_plots/line_all_metrics.png\n",
      "✅ Saved GOP 8 bar plot: benchmark/grid_comparison_plots/bar_gop8_comparison.png\n"
     ]
    }
   ],
   "source": [
    "# === Example usage ===\n",
    "csv_files = {\n",
    "    \"grid_3\": \"benchmark/metrics/Unicontrol_UVG_1080_grid3.csv\",\n",
    "    \"no_grid\": \"benchmark/metrics/Unicontrol_UVG_1080.csv\",\n",
    "    # \"grid_9\": \"benchmark/combined_metrics_grid9.csv\",  # add when ready\n",
    "    # \"grid_15\": \"benchmark/combined_metrics_grid15.csv\"\n",
    "}\n",
    "metrics_to_plot = [\"PSNR\", \"MS-SSIM\", \"LPIPS\", \"FID\", \"FVD\"]\n",
    "\n",
    "df_all = load_and_label_csvs(csv_files)\n",
    "df_avg = average_per_gop_grid(df_all)\n",
    "\n",
    "# Plot all metrics in 2x3 grid layout\n",
    "plot_all_metrics_line(df_avg, metrics_to_plot)\n",
    "\n",
    "# Plot bar comparisons only for GOP 8\n",
    "plot_gop8_bars(df_avg, metrics_to_plot)"
   ]
  },
  {
   "cell_type": "code",
   "execution_count": 1,
   "id": "b088b660-ddce-4e7b-a3fb-2a33e5956924",
   "metadata": {},
   "outputs": [],
   "source": [
    "# import os\n",
    "# from pathlib import Path\n",
    "# import pandas as pd\n",
    "\n",
    "# def count_images_in_flow_folders(base_path=\"data/UVG\", gops=(4, 8, 16), subfolder=\"grid_3\"):\n",
    "#     base_dir = Path(base_path)\n",
    "#     results = []\n",
    "\n",
    "#     for video_dir in sorted(base_dir.iterdir()):\n",
    "#         if not video_dir.is_dir():\n",
    "#             continue\n",
    "\n",
    "#         video_name = video_dir.name\n",
    "#         for gop in gops:\n",
    "#             gop_dir = video_dir / \"1080p\" / f\"optical_flow_gop_{gop}\" / subfolder\n",
    "#             if gop_dir.exists():\n",
    "#                 num_images = len([f for f in gop_dir.iterdir() if f.suffix == \".png\"])\n",
    "#             else:\n",
    "#                 num_images = 0  # Missing folder\n",
    "\n",
    "#             results.append({\n",
    "#                 \"video\": video_name,\n",
    "#                 \"gop\": f\"gop{gop}\",\n",
    "#                 \"image_count\": num_images\n",
    "#             })\n",
    "\n",
    "#     return pd.DataFrame(results)\n",
    "\n",
    "# # === Run and display/save ===\n",
    "# df_image_counts = count_images_in_flow_folders()\n",
    "# df_image_counts\n"
   ]
  }
 ],
 "metadata": {
  "kernelspec": {
   "display_name": "Python 3 (ipykernel)",
   "language": "python",
   "name": "python3"
  },
  "language_info": {
   "codemirror_mode": {
    "name": "ipython",
    "version": 3
   },
   "file_extension": ".py",
   "mimetype": "text/x-python",
   "name": "python",
   "nbconvert_exporter": "python",
   "pygments_lexer": "ipython3",
   "version": "3.8.10"
  }
 },
 "nbformat": 4,
 "nbformat_minor": 5
}
